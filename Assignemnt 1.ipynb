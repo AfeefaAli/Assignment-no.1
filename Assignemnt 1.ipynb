{
 "cells": [
  {
   "cell_type": "code",
   "execution_count": 37,
   "metadata": {},
   "outputs": [
    {
     "name": "stdout",
     "output_type": "stream",
     "text": [
      "Twinkle, twinkle, little star,\n",
      "\tHow I wonder what you are\n",
      "\t\tUp above the world so high\n",
      "\t\tLike a diamond in the sky\n",
      "Twinkle, twinkle, little star,\n",
      "\tHow I wonder what you are\n"
     ]
    }
   ],
   "source": [
    "#Question 1\n",
    "a= \"Twinkle, twinkle, little star,\";\n",
    "b= \"\\tHow I wonder what you are\";\n",
    "c= \"\\t\\tUp above the world so high\";\n",
    "d= \"\\t\\tLike a diamond in the sky\";\n",
    "\n",
    "print(a)\n",
    "print(b)\n",
    "print(c)\n",
    "print(d)\n",
    "print(a)\n",
    "print(b)"
   ]
  },
  {
   "cell_type": "code",
   "execution_count": 38,
   "metadata": {},
   "outputs": [
    {
     "name": "stdout",
     "output_type": "stream",
     "text": [
      "Python version :  3.7.6 (default, Jan  8 2020, 20:23:39) [MSC v.1916 64 bit (AMD64)]\n"
     ]
    }
   ],
   "source": [
    "#Question 2\n",
    "import sys\n",
    "print (\"Python version : \",sys.version)\n"
   ]
  },
  {
   "cell_type": "code",
   "execution_count": 40,
   "metadata": {},
   "outputs": [
    {
     "name": "stdout",
     "output_type": "stream",
     "text": [
      "today date is  2022-01-01\n",
      "time at the moment is  23:40:30.613120\n"
     ]
    }
   ],
   "source": [
    "#Question 3\n",
    "from datetime import datetime\n",
    "\n",
    "d= date.today()\n",
    "print (\"today date is \", d )\n",
    "t= datetime.now().time()\n",
    "print(\"time at the moment is \" , t)\n"
   ]
  },
  {
   "cell_type": "code",
   "execution_count": 41,
   "metadata": {},
   "outputs": [
    {
     "name": "stdout",
     "output_type": "stream",
     "text": [
      "Enter radius of the circle : 3\n",
      "area of circle is28.274333882308138\n"
     ]
    }
   ],
   "source": [
    "#Question 4\n",
    "from math import pi\n",
    "\n",
    "r= float(input(\"Enter radius of the circle : \"))\n",
    "A = str(pi*r*r)\n",
    "print (\"area of circle is\" + A)"
   ]
  },
  {
   "cell_type": "code",
   "execution_count": null,
   "metadata": {},
   "outputs": [],
   "source": [
    "#Question 6\n",
    "a = float(input(\"Enter 1st number \"));\n",
    "b = float(input(\"Enter 2nd number \"));\n",
    "c = a + b;\n",
    "print(c);"
   ]
  },
  {
   "cell_type": "code",
   "execution_count": null,
   "metadata": {},
   "outputs": [],
   "source": [
    "#Question 5\n",
    "first = input(\"Input your First Name : \")\n",
    "last = input(\"Input your Sur Name : \")\n",
    "print (last + \" \" + first)"
   ]
  },
  {
   "cell_type": "code",
   "execution_count": null,
   "metadata": {},
   "outputs": [],
   "source": []
  },
  {
   "cell_type": "code",
   "execution_count": null,
   "metadata": {},
   "outputs": [],
   "source": []
  }
 ],
 "metadata": {
  "kernelspec": {
   "display_name": "Python 3",
   "language": "python",
   "name": "python3"
  },
  "language_info": {
   "codemirror_mode": {
    "name": "ipython",
    "version": 3
   },
   "file_extension": ".py",
   "mimetype": "text/x-python",
   "name": "python",
   "nbconvert_exporter": "python",
   "pygments_lexer": "ipython3",
   "version": "3.7.6"
  }
 },
 "nbformat": 4,
 "nbformat_minor": 4
}
